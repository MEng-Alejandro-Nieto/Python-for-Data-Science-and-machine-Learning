{
 "cells": [
  {
   "cell_type": "markdown",
   "metadata": {},
   "source": [
    "# What Is Machine Learning\n",
    "\n",
    "* Machine learning is a method of data analysis that automates analytical model building.\n",
    "\n",
    "* Using algorithms that iteratively learn from data, machine learning allows computers to find hidden insights without being explicitly programmed where to look\n",
    "\n",
    "1  there are 3 main types of machine learning algorithms\n",
    "* Supervised Learning\n",
    "* Unsupervised Learning\n",
    "* Reinforcement Learning\n",
    "\n",
    "SUPERVISED LEARNING:\n",
    "* Your have labeled data and you are trying to predict a label based off of known features\n",
    "\n",
    "UNSUPERVISED lEARNING:\n",
    "* Your have unlabeled data and you are trying to group together  similar data points based off of features\n",
    "\n",
    "REINFORCEMENT LEARNING:\n",
    "* Algorithm learns to perform an action from experience\n"
   ]
  },
  {
   "cell_type": "code",
   "execution_count": 6,
   "metadata": {},
   "outputs": [],
   "source": [
    "import pandas as pd\n",
    "import numpy as np\n",
    "import seaborn as sns\n",
    "import matplotlib.pyplot as plt\n",
    "#from sklearn.(family) import (Model)\n"
   ]
  },
  {
   "cell_type": "markdown",
   "metadata": {},
   "source": [
    "# Importing scikit-learn\n",
    "\n",
    "from sklearn.(family) import (Model).\n",
    "\n",
    "example:\n",
    "* from sklearn.linear_model  import LinearRegression\n",
    "\n",
    "where \"linear_model\" is the family of models and \"LinearRegression\"\n",
    "is the model"
   ]
  },
  {
   "cell_type": "code",
   "execution_count": 8,
   "metadata": {},
   "outputs": [],
   "source": [
    "from sklearn.linear_model  import LinearRegression"
   ]
  },
  {
   "cell_type": "code",
   "execution_count": null,
   "metadata": {},
   "outputs": [],
   "source": []
  }
 ],
 "metadata": {
  "kernelspec": {
   "display_name": "Python 3",
   "language": "python",
   "name": "python3"
  },
  "language_info": {
   "codemirror_mode": {
    "name": "ipython",
    "version": 3
   },
   "file_extension": ".py",
   "mimetype": "text/x-python",
   "name": "python",
   "nbconvert_exporter": "python",
   "pygments_lexer": "ipython3",
   "version": "3.7.3"
  }
 },
 "nbformat": 4,
 "nbformat_minor": 2
}
