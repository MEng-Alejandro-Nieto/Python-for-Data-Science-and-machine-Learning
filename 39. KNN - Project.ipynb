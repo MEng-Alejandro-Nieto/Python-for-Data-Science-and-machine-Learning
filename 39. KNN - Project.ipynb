{
 "cells": [
  {
   "cell_type": "code",
   "execution_count": 1,
   "metadata": {},
   "outputs": [],
   "source": [
    "import pandas as pd\n",
    "import numpy as np"
   ]
  },
  {
   "cell_type": "code",
   "execution_count": 3,
   "metadata": {},
   "outputs": [],
   "source": [
    "import matplotlib.pyplot as plt\n",
    "import seaborn as sns\n",
    "%matplotlib inline"
   ]
  },
  {
   "cell_type": "markdown",
   "metadata": {},
   "source": [
    "# 1. Get Data"
   ]
  },
  {
   "cell_type": "code",
   "execution_count": 4,
   "metadata": {},
   "outputs": [],
   "source": [
    "data=pd.read_csv('/home/alejandrolive932/Desktop/PYTHON 3/Udemy_Data_Science_and_Machine_Learning/Refactored_Py_DS_ML_Bootcamp-master/14-K-Nearest-Neighbors/KNN_Project_Data')"
   ]
  },
  {
   "cell_type": "code",
   "execution_count": 6,
   "metadata": {},
   "outputs": [
    {
     "name": "stdout",
     "output_type": "stream",
     "text": [
      "<class 'pandas.core.frame.DataFrame'>\n",
      "RangeIndex: 1000 entries, 0 to 999\n",
      "Data columns (total 11 columns):\n",
      "XVPM            1000 non-null float64\n",
      "GWYH            1000 non-null float64\n",
      "TRAT            1000 non-null float64\n",
      "TLLZ            1000 non-null float64\n",
      "IGGA            1000 non-null float64\n",
      "HYKR            1000 non-null float64\n",
      "EDFS            1000 non-null float64\n",
      "GUUB            1000 non-null float64\n",
      "MGJM            1000 non-null float64\n",
      "JHZC            1000 non-null float64\n",
      "TARGET CLASS    1000 non-null int64\n",
      "dtypes: float64(10), int64(1)\n",
      "memory usage: 86.0 KB\n"
     ]
    }
   ],
   "source": [
    "data.info()"
   ]
  },
  {
   "cell_type": "code",
   "execution_count": 8,
   "metadata": {},
   "outputs": [
    {
     "data": {
      "text/html": [
       "<div>\n",
       "<style scoped>\n",
       "    .dataframe tbody tr th:only-of-type {\n",
       "        vertical-align: middle;\n",
       "    }\n",
       "\n",
       "    .dataframe tbody tr th {\n",
       "        vertical-align: top;\n",
       "    }\n",
       "\n",
       "    .dataframe thead th {\n",
       "        text-align: right;\n",
       "    }\n",
       "</style>\n",
       "<table border=\"1\" class=\"dataframe\">\n",
       "  <thead>\n",
       "    <tr style=\"text-align: right;\">\n",
       "      <th></th>\n",
       "      <th>XVPM</th>\n",
       "      <th>GWYH</th>\n",
       "      <th>TRAT</th>\n",
       "      <th>TLLZ</th>\n",
       "      <th>IGGA</th>\n",
       "      <th>HYKR</th>\n",
       "      <th>EDFS</th>\n",
       "      <th>GUUB</th>\n",
       "      <th>MGJM</th>\n",
       "      <th>JHZC</th>\n",
       "      <th>TARGET CLASS</th>\n",
       "    </tr>\n",
       "  </thead>\n",
       "  <tbody>\n",
       "    <tr>\n",
       "      <th>count</th>\n",
       "      <td>1000.000000</td>\n",
       "      <td>1000.000000</td>\n",
       "      <td>1000.000000</td>\n",
       "      <td>1000.000000</td>\n",
       "      <td>1000.000000</td>\n",
       "      <td>1000.000000</td>\n",
       "      <td>1000.000000</td>\n",
       "      <td>1000.000000</td>\n",
       "      <td>1000.000000</td>\n",
       "      <td>1000.000000</td>\n",
       "      <td>1000.00000</td>\n",
       "    </tr>\n",
       "    <tr>\n",
       "      <th>mean</th>\n",
       "      <td>1055.071157</td>\n",
       "      <td>991.851567</td>\n",
       "      <td>1529.373525</td>\n",
       "      <td>495.107156</td>\n",
       "      <td>940.590072</td>\n",
       "      <td>1550.637455</td>\n",
       "      <td>1561.003252</td>\n",
       "      <td>561.346117</td>\n",
       "      <td>1089.067338</td>\n",
       "      <td>1452.521629</td>\n",
       "      <td>0.50000</td>\n",
       "    </tr>\n",
       "    <tr>\n",
       "      <th>std</th>\n",
       "      <td>370.980193</td>\n",
       "      <td>392.278890</td>\n",
       "      <td>640.286092</td>\n",
       "      <td>142.789188</td>\n",
       "      <td>345.923136</td>\n",
       "      <td>493.491988</td>\n",
       "      <td>598.608517</td>\n",
       "      <td>247.357552</td>\n",
       "      <td>402.666953</td>\n",
       "      <td>568.132005</td>\n",
       "      <td>0.50025</td>\n",
       "    </tr>\n",
       "    <tr>\n",
       "      <th>min</th>\n",
       "      <td>21.170000</td>\n",
       "      <td>21.720000</td>\n",
       "      <td>31.800000</td>\n",
       "      <td>8.450000</td>\n",
       "      <td>17.930000</td>\n",
       "      <td>27.930000</td>\n",
       "      <td>31.960000</td>\n",
       "      <td>13.520000</td>\n",
       "      <td>23.210000</td>\n",
       "      <td>30.890000</td>\n",
       "      <td>0.00000</td>\n",
       "    </tr>\n",
       "    <tr>\n",
       "      <th>25%</th>\n",
       "      <td>767.413366</td>\n",
       "      <td>694.859326</td>\n",
       "      <td>1062.600806</td>\n",
       "      <td>401.788135</td>\n",
       "      <td>700.763295</td>\n",
       "      <td>1219.267077</td>\n",
       "      <td>1132.097865</td>\n",
       "      <td>381.704293</td>\n",
       "      <td>801.849802</td>\n",
       "      <td>1059.499689</td>\n",
       "      <td>0.00000</td>\n",
       "    </tr>\n",
       "    <tr>\n",
       "      <th>50%</th>\n",
       "      <td>1045.904805</td>\n",
       "      <td>978.355081</td>\n",
       "      <td>1522.507269</td>\n",
       "      <td>500.197421</td>\n",
       "      <td>939.348662</td>\n",
       "      <td>1564.996551</td>\n",
       "      <td>1565.882879</td>\n",
       "      <td>540.420379</td>\n",
       "      <td>1099.087954</td>\n",
       "      <td>1441.554053</td>\n",
       "      <td>0.50000</td>\n",
       "    </tr>\n",
       "    <tr>\n",
       "      <th>75%</th>\n",
       "      <td>1326.065178</td>\n",
       "      <td>1275.528770</td>\n",
       "      <td>1991.128626</td>\n",
       "      <td>600.525709</td>\n",
       "      <td>1182.578166</td>\n",
       "      <td>1891.937040</td>\n",
       "      <td>1981.739411</td>\n",
       "      <td>725.762027</td>\n",
       "      <td>1369.923665</td>\n",
       "      <td>1864.405512</td>\n",
       "      <td>1.00000</td>\n",
       "    </tr>\n",
       "    <tr>\n",
       "      <th>max</th>\n",
       "      <td>2117.000000</td>\n",
       "      <td>2172.000000</td>\n",
       "      <td>3180.000000</td>\n",
       "      <td>845.000000</td>\n",
       "      <td>1793.000000</td>\n",
       "      <td>2793.000000</td>\n",
       "      <td>3196.000000</td>\n",
       "      <td>1352.000000</td>\n",
       "      <td>2321.000000</td>\n",
       "      <td>3089.000000</td>\n",
       "      <td>1.00000</td>\n",
       "    </tr>\n",
       "  </tbody>\n",
       "</table>\n",
       "</div>"
      ],
      "text/plain": [
       "              XVPM         GWYH         TRAT         TLLZ         IGGA  \\\n",
       "count  1000.000000  1000.000000  1000.000000  1000.000000  1000.000000   \n",
       "mean   1055.071157   991.851567  1529.373525   495.107156   940.590072   \n",
       "std     370.980193   392.278890   640.286092   142.789188   345.923136   \n",
       "min      21.170000    21.720000    31.800000     8.450000    17.930000   \n",
       "25%     767.413366   694.859326  1062.600806   401.788135   700.763295   \n",
       "50%    1045.904805   978.355081  1522.507269   500.197421   939.348662   \n",
       "75%    1326.065178  1275.528770  1991.128626   600.525709  1182.578166   \n",
       "max    2117.000000  2172.000000  3180.000000   845.000000  1793.000000   \n",
       "\n",
       "              HYKR         EDFS         GUUB         MGJM         JHZC  \\\n",
       "count  1000.000000  1000.000000  1000.000000  1000.000000  1000.000000   \n",
       "mean   1550.637455  1561.003252   561.346117  1089.067338  1452.521629   \n",
       "std     493.491988   598.608517   247.357552   402.666953   568.132005   \n",
       "min      27.930000    31.960000    13.520000    23.210000    30.890000   \n",
       "25%    1219.267077  1132.097865   381.704293   801.849802  1059.499689   \n",
       "50%    1564.996551  1565.882879   540.420379  1099.087954  1441.554053   \n",
       "75%    1891.937040  1981.739411   725.762027  1369.923665  1864.405512   \n",
       "max    2793.000000  3196.000000  1352.000000  2321.000000  3089.000000   \n",
       "\n",
       "       TARGET CLASS  \n",
       "count    1000.00000  \n",
       "mean        0.50000  \n",
       "std         0.50025  \n",
       "min         0.00000  \n",
       "25%         0.00000  \n",
       "50%         0.50000  \n",
       "75%         1.00000  \n",
       "max         1.00000  "
      ]
     },
     "execution_count": 8,
     "metadata": {},
     "output_type": "execute_result"
    }
   ],
   "source": [
    "data.describe()"
   ]
  },
  {
   "cell_type": "markdown",
   "metadata": {},
   "source": [
    "# 2. Scale Data (Fit and Transform)"
   ]
  },
  {
   "cell_type": "code",
   "execution_count": 9,
   "metadata": {},
   "outputs": [],
   "source": [
    "from sklearn.preprocessing import StandardScaler"
   ]
  },
  {
   "cell_type": "code",
   "execution_count": 14,
   "metadata": {},
   "outputs": [],
   "source": [
    "scaler=StandardScaler()"
   ]
  },
  {
   "cell_type": "code",
   "execution_count": 15,
   "metadata": {},
   "outputs": [
    {
     "data": {
      "text/plain": [
       "StandardScaler(copy=True, with_mean=True, with_std=True)"
      ]
     },
     "execution_count": 15,
     "metadata": {},
     "output_type": "execute_result"
    }
   ],
   "source": [
    "scaler.fit(data.drop('TARGET CLASS',axis=1))"
   ]
  },
  {
   "cell_type": "code",
   "execution_count": 22,
   "metadata": {},
   "outputs": [],
   "source": [
    "scaler =scaler.transform(data.drop('TARGET CLASS',axis=1))"
   ]
  },
  {
   "cell_type": "code",
   "execution_count": 25,
   "metadata": {},
   "outputs": [],
   "source": [
    "table=pd.DataFrame(data=scaler,columns=data.columns[:-1])"
   ]
  },
  {
   "cell_type": "code",
   "execution_count": 26,
   "metadata": {},
   "outputs": [
    {
     "data": {
      "text/html": [
       "<div>\n",
       "<style scoped>\n",
       "    .dataframe tbody tr th:only-of-type {\n",
       "        vertical-align: middle;\n",
       "    }\n",
       "\n",
       "    .dataframe tbody tr th {\n",
       "        vertical-align: top;\n",
       "    }\n",
       "\n",
       "    .dataframe thead th {\n",
       "        text-align: right;\n",
       "    }\n",
       "</style>\n",
       "<table border=\"1\" class=\"dataframe\">\n",
       "  <thead>\n",
       "    <tr style=\"text-align: right;\">\n",
       "      <th></th>\n",
       "      <th>XVPM</th>\n",
       "      <th>GWYH</th>\n",
       "      <th>TRAT</th>\n",
       "      <th>TLLZ</th>\n",
       "      <th>IGGA</th>\n",
       "      <th>HYKR</th>\n",
       "      <th>EDFS</th>\n",
       "      <th>GUUB</th>\n",
       "      <th>MGJM</th>\n",
       "      <th>JHZC</th>\n",
       "    </tr>\n",
       "  </thead>\n",
       "  <tbody>\n",
       "    <tr>\n",
       "      <th>0</th>\n",
       "      <td>1.568522</td>\n",
       "      <td>-0.443435</td>\n",
       "      <td>1.619808</td>\n",
       "      <td>-0.958255</td>\n",
       "      <td>-1.128481</td>\n",
       "      <td>0.138336</td>\n",
       "      <td>0.980493</td>\n",
       "      <td>-0.932794</td>\n",
       "      <td>1.008313</td>\n",
       "      <td>-1.069627</td>\n",
       "    </tr>\n",
       "    <tr>\n",
       "      <th>1</th>\n",
       "      <td>-0.112376</td>\n",
       "      <td>-1.056574</td>\n",
       "      <td>1.741918</td>\n",
       "      <td>-1.504220</td>\n",
       "      <td>0.640009</td>\n",
       "      <td>1.081552</td>\n",
       "      <td>-1.182663</td>\n",
       "      <td>-0.461864</td>\n",
       "      <td>0.258321</td>\n",
       "      <td>-1.041546</td>\n",
       "    </tr>\n",
       "    <tr>\n",
       "      <th>2</th>\n",
       "      <td>0.660647</td>\n",
       "      <td>-0.436981</td>\n",
       "      <td>0.775793</td>\n",
       "      <td>0.213394</td>\n",
       "      <td>-0.053171</td>\n",
       "      <td>2.030872</td>\n",
       "      <td>-1.240707</td>\n",
       "      <td>1.149298</td>\n",
       "      <td>2.184784</td>\n",
       "      <td>0.342811</td>\n",
       "    </tr>\n",
       "  </tbody>\n",
       "</table>\n",
       "</div>"
      ],
      "text/plain": [
       "       XVPM      GWYH      TRAT      TLLZ      IGGA      HYKR      EDFS  \\\n",
       "0  1.568522 -0.443435  1.619808 -0.958255 -1.128481  0.138336  0.980493   \n",
       "1 -0.112376 -1.056574  1.741918 -1.504220  0.640009  1.081552 -1.182663   \n",
       "2  0.660647 -0.436981  0.775793  0.213394 -0.053171  2.030872 -1.240707   \n",
       "\n",
       "       GUUB      MGJM      JHZC  \n",
       "0 -0.932794  1.008313 -1.069627  \n",
       "1 -0.461864  0.258321 -1.041546  \n",
       "2  1.149298  2.184784  0.342811  "
      ]
     },
     "execution_count": 26,
     "metadata": {},
     "output_type": "execute_result"
    }
   ],
   "source": [
    "table.head(3)"
   ]
  },
  {
   "cell_type": "markdown",
   "metadata": {},
   "source": [
    "# 3. Create the Train and Test Data"
   ]
  },
  {
   "cell_type": "code",
   "execution_count": 39,
   "metadata": {},
   "outputs": [],
   "source": [
    "x=table[['XVPM', 'GWYH', 'TRAT', 'TLLZ', 'IGGA', 'HYKR', 'EDFS', 'GUUB', 'MGJM','JHZC']]\n",
    "y=data['TARGET CLASS']   "
   ]
  },
  {
   "cell_type": "code",
   "execution_count": 49,
   "metadata": {},
   "outputs": [],
   "source": [
    "from sklearn.cross_validation import train_test_split as tts"
   ]
  },
  {
   "cell_type": "code",
   "execution_count": 76,
   "metadata": {},
   "outputs": [],
   "source": [
    "x_train, x_test, y_train, y_test = train_test_split(x, y, test_size=0.3, random_state=101)"
   ]
  },
  {
   "cell_type": "markdown",
   "metadata": {},
   "source": [
    "# 4. Fit and Predict Data in KNeighborsClassifier"
   ]
  },
  {
   "cell_type": "code",
   "execution_count": 77,
   "metadata": {},
   "outputs": [],
   "source": [
    "from sklearn.neighbors import KNeighborsClassifier"
   ]
  },
  {
   "cell_type": "code",
   "execution_count": 78,
   "metadata": {},
   "outputs": [],
   "source": [
    "clasificador=KNeighborsClassifier(n_neighbors=1)"
   ]
  },
  {
   "cell_type": "code",
   "execution_count": 79,
   "metadata": {},
   "outputs": [
    {
     "data": {
      "text/plain": [
       "KNeighborsClassifier(algorithm='auto', leaf_size=30, metric='minkowski',\n",
       "           metric_params=None, n_jobs=1, n_neighbors=1, p=2,\n",
       "           weights='uniform')"
      ]
     },
     "execution_count": 79,
     "metadata": {},
     "output_type": "execute_result"
    }
   ],
   "source": [
    "clasificador.fit(x_train,y_train)"
   ]
  },
  {
   "cell_type": "code",
   "execution_count": 80,
   "metadata": {},
   "outputs": [],
   "source": [
    "prediction=clasificador.predict(x_test)"
   ]
  },
  {
   "cell_type": "code",
   "execution_count": 81,
   "metadata": {},
   "outputs": [],
   "source": [
    "from sklearn.metrics import confusion_matrix,classification_report\n"
   ]
  },
  {
   "cell_type": "code",
   "execution_count": 82,
   "metadata": {},
   "outputs": [
    {
     "data": {
      "text/plain": [
       "array([[109,  43],\n",
       "       [ 41, 107]])"
      ]
     },
     "execution_count": 82,
     "metadata": {},
     "output_type": "execute_result"
    }
   ],
   "source": [
    "confusion_matrix(y_test,prediction)"
   ]
  },
  {
   "cell_type": "markdown",
   "metadata": {},
   "source": [
    "# Evolution of Prediction as k Points Increase "
   ]
  },
  {
   "cell_type": "code",
   "execution_count": 119,
   "metadata": {},
   "outputs": [
    {
     "data": {
      "text/plain": [
       "Text(0,0.5,'Error')"
      ]
     },
     "execution_count": 119,
     "metadata": {},
     "output_type": "execute_result"
    },
    {
     "data": {
      "image/png": "[encoded data removed]",
      "text/plain": [
       "<Figure size 720x360 with 1 Axes>"
      ]
     },
     "metadata": {
      "needs_background": "light"
     },
     "output_type": "display_data"
    }
   ],
   "source": [
    "error=[]\n",
    "\n",
    "for i in range(1,200):\n",
    "    clasificador=KNeighborsClassifier(n_neighbors=i)\n",
    "    clasificador.fit(x_train,y_train)\n",
    "    prediction=clasificador.predict(x_test)\n",
    "    error.append(np.array(y_test!=prediction).mean())\n",
    "    \n",
    "    \n",
    "x=np.arange(1,200)\n",
    "y=np.array(error)\n",
    "\n",
    "fig,axs=plt.subplots(figsize=(10,5))\n",
    "axs.plot(x,y)\n",
    "axs.grid(True)\n",
    "axs.set_xlabel('KNN numbers')\n",
    "axs.set_ylabel('Error')"
   ]
  },
  {
   "cell_type": "code",
   "execution_count": 95,
   "metadata": {},
   "outputs": [
    {
     "data": {
      "text/plain": [
       "[0.28,\n",
       " 0.29,\n",
       " 0.21666666666666667,\n",
       " 0.22,\n",
       " 0.20666666666666667,\n",
       " 0.21,\n",
       " 0.18333333333333332,\n",
       " 0.19,\n",
       " 0.19,\n",
       " 0.17666666666666667,\n",
       " 0.18333333333333332,\n",
       " 0.18333333333333332,\n",
       " 0.18333333333333332,\n",
       " 0.18,\n",
       " 0.18,\n",
       " 0.18,\n",
       " 0.17,\n",
       " 0.17333333333333334,\n",
       " 0.17666666666666667,\n",
       " 0.18333333333333332,\n",
       " 0.17666666666666667,\n",
       " 0.18333333333333332,\n",
       " 0.16666666666666666,\n",
       " 0.18,\n",
       " 0.16666666666666666,\n",
       " 0.17,\n",
       " 0.16666666666666666,\n",
       " 0.17333333333333334,\n",
       " 0.16666666666666666,\n",
       " 0.17333333333333334,\n",
       " 0.16,\n",
       " 0.16666666666666666,\n",
       " 0.17333333333333334,\n",
       " 0.17333333333333334,\n",
       " 0.17,\n",
       " 0.16666666666666666,\n",
       " 0.16,\n",
       " 0.16333333333333333,\n",
       " 0.16]"
      ]
     },
     "execution_count": 95,
     "metadata": {},
     "output_type": "execute_result"
    }
   ],
   "source": []
  },
  {
   "cell_type": "code",
   "execution_count": null,
   "metadata": {},
   "outputs": [],
   "source": []
  }
 ],
 "metadata": {
  "kernelspec": {
   "display_name": "Python 3",
   "language": "python",
   "name": "python3"
  },
  "language_info": {
   "codemirror_mode": {
    "name": "ipython",
    "version": 3
   },
   "file_extension": ".py",
   "mimetype": "text/x-python",
   "name": "python",
   "nbconvert_exporter": "python",
   "pygments_lexer": "ipython3",
   "version": "3.7.3"
  }
 },
 "nbformat": 4,
 "nbformat_minor": 2
}
